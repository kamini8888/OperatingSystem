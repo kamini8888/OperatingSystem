{
  "nbformat": 4,
  "nbformat_minor": 0,
  "metadata": {
    "colab": {
      "provenance": [],
      "authorship_tag": "ABX9TyPmTEqJD6LrdM/WL3FU8XJ/",
      "include_colab_link": true
    },
    "kernelspec": {
      "name": "python3",
      "display_name": "Python 3"
    },
    "language_info": {
      "name": "python"
    }
  },
  "cells": [
    {
      "cell_type": "markdown",
      "metadata": {
        "id": "view-in-github",
        "colab_type": "text"
      },
      "source": [
        "<a href=\"https://colab.research.google.com/github/kamini8888/OperatingSystem/blob/main/192124219_Day1.ipynb\" target=\"_parent\"><img src=\"https://colab.research.google.com/assets/colab-badge.svg\" alt=\"Open In Colab\"/></a>"
      ]
    },
    {
      "cell_type": "markdown",
      "source": [
        "# **1.\tWrite a Pandas program to select distinct department id from employees file.**"
      ],
      "metadata": {
        "id": "uIV6e4yQdK0O"
      }
    },
    {
      "cell_type": "markdown",
      "source": [
        "AIM: to write a pandas program to select distinct department id    \n",
        "PROCEDURE:  \n",
        "Algorithm: Select Distinct Department IDs using Pandas\n",
        "1. Import the Pandas library.\n",
        "\n",
        "2. Define or load your dataset into a Pandas DataFrame.\n",
        "   - If the data is not already in a DataFrame, you can use Pandas to read it from a file or create one manually.\n",
        "\n",
        "3. Use the DataFrame and Pandas functions to extract distinct department IDs:\n",
        "   - Use the 'unique' method on the specific column containing department IDs to obtain an array of unique values.\n",
        "\n",
        "4. Display or use the resulting distinct department IDs as needed.\n",
        "\n",
        "5. Close any open resources, if necessary."
      ],
      "metadata": {
        "id": "h5hfaP2vdhd9"
      }
    },
    {
      "cell_type": "code",
      "source": [
        "import pandas as pd\n",
        "\n",
        "data = {\n",
        "    'DEPARTMENT_ID': [10, 20, 30, 40, 50, 60, 70, 80, 90, 100, 110, 120, 130, 140, 150, 160, 170, 180, 190, 200, 210, 220, 230, 240, 250, 260, 270],\n",
        "    'DEPARTMENT_NAME': [\n",
        "        'Administration', 'Marketing', 'Purchasing', 'Human Resources', 'Shipping', 'IT', 'Public Relations',\n",
        "        'Sales', 'Executive', 'Finance', 'Accounting', 'Treasury', 'Corporate Tax', 'Control And Credit',\n",
        "        'Shareholder Services', 'Benefits', 'Manufacturing', 'Construction', 'Contracting', 'Operations',\n",
        "        'IT Support', 'NOC', 'IT Helpdesk', 'Government Sales', 'Retail Sales', 'Recruiting', 'Payroll'\n",
        "    ],\n",
        "    'MANAGER_ID': [200, 201, 114, 203, 121, 103, 204, 145, 100, 108, 205, 0, 0, 0, 0, 0, 0, 0, 0, 0, 0, 0, 0, 0, 0, 0, 0],\n",
        "    'LOCATION_ID': [1700, 1800, 1700, 2400, 1500, 1400, 2700, 2500, 1700, 1700, 1700, 1700, 1700, 1700, 1700, 1700, 1700, 1700, 1700, 1700, 1700, 1700, 1700, 1700, 1700, 1700, 1700],\n",
        "}\n",
        "\n",
        "df = pd.DataFrame(data)\n",
        "distinct_department_ids = df['DEPARTMENT_ID'].unique()\n",
        "print(\"Distinct Department IDs:\")\n",
        "print(distinct_department_ids)"
      ],
      "metadata": {
        "colab": {
          "base_uri": "https://localhost:8080/"
        },
        "id": "yi290jG9dru7",
        "outputId": "2ad87ec6-173e-4317-e8b5-f803ae1d705d"
      },
      "execution_count": null,
      "outputs": [
        {
          "output_type": "stream",
          "name": "stdout",
          "text": [
            "Distinct Department IDs:\n",
            "[ 10  20  30  40  50  60  70  80  90 100 110 120 130 140 150 160 170 180\n",
            " 190 200 210 220 230 240 250 260 270]\n"
          ]
        }
      ]
    },
    {
      "cell_type": "markdown",
      "source": [
        "RESULT: Successfully implemented."
      ],
      "metadata": {
        "id": "EghJqW9EeuO3"
      }
    },
    {
      "cell_type": "markdown",
      "source": [
        "# **2.\tWrite a Pandas program to display the ID for those employees who did two or more jobs in the past.**"
      ],
      "metadata": {
        "id": "C7vtcj9MfWKg"
      }
    },
    {
      "cell_type": "markdown",
      "source": [
        "AIM: to write a Pandas program to display the ID for those employees who did two or more jobs in the past.  \n",
        "PROCEDURE:\n",
        "Algorithm: Identify Employees with Multiple Job Positions using Pandas\n",
        "\n",
        "1. Import the Pandas library.\n",
        "2. Define or load your employee data into a Pandas DataFrame.\n",
        "   - If the data is not already in a DataFrame, you can use Pandas to read it from a file or create one manually.\n",
        "3. Use the `groupby` method to group the data by 'EMPLOYEE_ID'.\n",
        "4. Use the `nunique` method to count the number of unique 'JOB_ID' values for each employee.\n",
        "5. Filter the results to select employees with two or more distinct job positions.\n",
        "6. Display or use the resulting employee IDs with multiple job positions as needed.\n",
        "7. Close any open resources, if necessary.\n"
      ],
      "metadata": {
        "id": "3PDZ_tdBfnZ8"
      }
    },
    {
      "cell_type": "code",
      "source": [
        "import pandas as pd\n",
        "\n",
        "data = {\n",
        "    'EMPLOYEE_ID': [102, 101, 101, 201, 114, 122, 200, 176, 176, 200],\n",
        "    'START_DATE': ['2001-01-13', '1997-09-21', '2001-10-28', '2004-02-17', '2006-03-24', '2007-01-01', '1995-09-17', '2006-03-24', '2007-01-01', '2002-07-01'],\n",
        "    'END_DATE': ['2006-07-24', '2001-10-27', '2005-03-15', '2007-12-19', '2007-12-31', '2007-12-31', '2001-06-17', '2006-12-31', '2007-12-31', '2006-12-31'],\n",
        "    'JOB_ID': ['IT_PROG', 'AC_ACCOUNT', 'AC_MGR', 'MK_REP', 'ST_CLERK', 'ST_CLERK', 'AD_ASST', 'SA_REP', 'SA_MAN', 'AC_ACCOUNT'],\n",
        "    'DEPARTMENT_ID': [60, 110, 110, 20, 50, 50, 90, 80, 80, 90],\n",
        "}\n",
        "\n",
        "df = pd.DataFrame(data)\n",
        "job_counts = df.groupby('EMPLOYEE_ID')['JOB_ID'].nunique()\n",
        "employees_with_multiple_jobs = job_counts[job_counts >= 2]\n",
        "print(\"Employee IDs with two or more jobs:\")\n",
        "print(employees_with_multiple_jobs)"
      ],
      "metadata": {
        "colab": {
          "base_uri": "https://localhost:8080/"
        },
        "id": "Cm7au3MZfpDD",
        "outputId": "28e47662-6b15-4d6f-e881-8338f76016f4"
      },
      "execution_count": null,
      "outputs": [
        {
          "output_type": "stream",
          "name": "stdout",
          "text": [
            "Employee IDs with two or more jobs:\n",
            "EMPLOYEE_ID\n",
            "101    2\n",
            "176    2\n",
            "200    2\n",
            "Name: JOB_ID, dtype: int64\n"
          ]
        }
      ]
    },
    {
      "cell_type": "markdown",
      "source": [
        "RESULT: Successfully implemented."
      ],
      "metadata": {
        "id": "bIWlg9c-fwxF"
      }
    },
    {
      "cell_type": "markdown",
      "source": [
        "# **3.\tWrite a Pandas program to display the details of jobs in descending sequence on job title.**"
      ],
      "metadata": {
        "id": "sLs48Epcfyfr"
      }
    },
    {
      "cell_type": "markdown",
      "source": [
        "AIM:to display the details of jobs in descending sequence on job title  \n",
        "PROCEDURE:Algorithm: Create and Sort a DataFrame by a Specific Column\n",
        "1. Import the Pandas library as pd.\n",
        "2. Define your dataset as a dictionary or load your data from a source.\n",
        "3. Create a DataFrame using the dataset with pd.DataFrame.\n",
        "4. Specify the column by which you want to sort the DataFrame, and set the `ascending` parameter to control the sorting order (True for ascending, False for descending).\n",
        "5. Use the `sort_values` function on the DataFrame to sort it based on the chosen column and order.\n",
        "6. Print the sorted DataFrame to view the results.\n"
      ],
      "metadata": {
        "id": "C3RucDCwf68T"
      }
    },
    {
      "cell_type": "code",
      "source": [
        "import pandas as pd\n",
        "\n",
        "# Sample data for the DataFrame\n",
        "data = {\n",
        "    'JOB_ID': ['AD_PRES', 'AD_VP', 'AD_ASST', 'FI_MGR', 'FI_ACCOUNT', 'AC_MGR', 'AC_ACCOUNT', 'SA_MAN', 'SA_REP', 'PU_MAN', 'PU_CLERK', 'ST_MAN', 'ST_CLERK', 'SH_CLERK', 'IT_PROG', 'MK_MAN', 'MK_REP', 'HR_REP', 'PR_REP'],\n",
        "    'JOB_TITLE': [\n",
        "        'President', 'Administration Vice President', 'Administration Assistant', 'Finance Manager',\n",
        "        'Accountant', 'Accounting Manager', 'Public Accountant', 'Sales Manager', 'Sales Representative',\n",
        "        'Purchasing Manager', 'Purchasing Clerk', 'Stock Manager', 'Stock Clerk', 'Shipping Clerk',\n",
        "        'Programmer', 'Marketing Manager', 'Marketing Representative', 'Human Resources Representative', 'Public Relations Representative'\n",
        "    ],\n",
        "    'MIN_SALARY': [20080, 15000, 3000, 8200, 4200, 8200, 4200, 10000, 6000, 8000, 2500, 5500, 2008, 2500, 4000, 9000, 4000, 4000, 4500],\n",
        "    'MAX_SALARY': [40000, 30000, 6000, 16000, 9000, 16000, 9000, 20080, 12008, 15000, 5500, 8500, 5000, 5500, 10000, 15000, 9000, 9000, 10500],\n",
        "}\n",
        "df = pd.DataFrame(data)\n",
        "df_sorted = df.sort_values(by='JOB_TITLE', ascending=False)\n",
        "print(df_sorted)"
      ],
      "metadata": {
        "colab": {
          "base_uri": "https://localhost:8080/"
        },
        "id": "59bibyKbf8Ss",
        "outputId": "a2a8456e-ec9f-4015-a526-3f6928c03c64"
      },
      "execution_count": null,
      "outputs": [
        {
          "output_type": "stream",
          "name": "stdout",
          "text": [
            "        JOB_ID                        JOB_TITLE  MIN_SALARY  MAX_SALARY\n",
            "11      ST_MAN                    Stock Manager        5500        8500\n",
            "12    ST_CLERK                      Stock Clerk        2008        5000\n",
            "13    SH_CLERK                   Shipping Clerk        2500        5500\n",
            "8       SA_REP             Sales Representative        6000       12008\n",
            "7       SA_MAN                    Sales Manager       10000       20080\n",
            "9       PU_MAN               Purchasing Manager        8000       15000\n",
            "10    PU_CLERK                 Purchasing Clerk        2500        5500\n",
            "18      PR_REP  Public Relations Representative        4500       10500\n",
            "6   AC_ACCOUNT                Public Accountant        4200        9000\n",
            "14     IT_PROG                       Programmer        4000       10000\n",
            "0      AD_PRES                        President       20080       40000\n",
            "16      MK_REP         Marketing Representative        4000        9000\n",
            "15      MK_MAN                Marketing Manager        9000       15000\n",
            "17      HR_REP   Human Resources Representative        4000        9000\n",
            "3       FI_MGR                  Finance Manager        8200       16000\n",
            "1        AD_VP    Administration Vice President       15000       30000\n",
            "2      AD_ASST         Administration Assistant        3000        6000\n",
            "5       AC_MGR               Accounting Manager        8200       16000\n",
            "4   FI_ACCOUNT                       Accountant        4200        9000\n"
          ]
        }
      ]
    },
    {
      "cell_type": "markdown",
      "source": [
        "RESULT: Successfully implemented."
      ],
      "metadata": {
        "id": "i-igP1UbgFZO"
      }
    },
    {
      "cell_type": "markdown",
      "source": [
        "# **4.\tWrite a Pandas program to create a line plot of the historical stock prices of Alphabet Inc. between two specific dates.**"
      ],
      "metadata": {
        "id": "3cEDduvAgH4d"
      }
    },
    {
      "cell_type": "markdown",
      "source": [
        "AIM: to create a line plot\n",
        "\n",
        "PROCEDURE:Algorithm: Create a Line Chart for Alphabet Inc. Stock Prices\n",
        "1. Import the Pandas and Matplotlib libraries.\n",
        "2. Define or load your dataset into a Pandas DataFrame.\n",
        "3. Convert the 'Date' column to datetime format using `pd.to_datetime`.\n",
        "4. Define the start_date and end_date for the date range you want to analyze.\n",
        "5. Filter the DataFrame to include only the rows that fall within the specified date range using boolean indexing.\n",
        "6. Create a line chart by plotting the 'Date' column on the x-axis and the 'Close' column on the y-axis using `plt.plot`.\n",
        "7. Customize the chart by setting the title, xlabel, ylabel, and legend.\n",
        "8. Display the line chart using `plt.show()`.\n"
      ],
      "metadata": {
        "id": "DQ93A_ZUgOQq"
      }
    },
    {
      "cell_type": "code",
      "source": [
        "import pandas as pd\n",
        "\n",
        "data = {\n",
        "    'Date': [\n",
        "        '01-04-2020', '02-04-2020', '03-04-2020', '06-04-2020', '07-04-2020','08-04-2020', '09-04-2020', '13-04-2020', '14-04-2020', '15-04-2020','16-04-2020', '17-04-2020', '20-04-2020', '21-04-2020', '22-04-2020','23-04-2020', '24-04-2020', '27-04-2020', '28-04-2020'  ],\n",
        "    'Open': [\n",
        "        1122.0, 1098.26001, 1119.015015, 1138.0, 1221.0, 1206.5, 1224.079956,1209.180054, 1245.089966, 1245.609985, 1274.099976, 1284.849976,1271.0, 1247.0, 1245.540039, 1271.550049, 1261.170044, 1296.0, 1287.930054 ],\n",
        "    'High': [1129.689941, 1126.859985, 1123.540039, 1194.660034, 1225.0, 1219.069946,1225.569946, 1220.51001, 1282.069946, 1280.459961, 1279.0, 1294.430054,1281.599976, 1254.27002, 1285.613037, 1293.310059, 1280.400024, 1296.150024,1288.050049],\n",
        "    'Low': [\n",
        "        1097.449951, 1096.400024, 1079.810059, 1130.939941, 1182.22998, 1188.160034,1196.734985, 1187.598022, 1236.930054, 1240.400024, 1242.619995, 1271.22998,1261.369995, 1209.709961, 1242.0, 1265.670044, 1249.449951, 1269.0, 1232.199951],\n",
        "    'Close': [\n",
        "        1105.619995, 1120.839966, 1097.880005, 1186.920044, 1186.51001, 1210.280029,1211.449951, 1217.560059, 1269.22998, 1262.469971, 1263.469971, 1283.25,1266.609985, 1216.339966, 1263.209961, 1276.310059, 1279.310059, 1275.880005,1233.670044],\n",
        "    'Adj Close': [\n",
        "        1105.619995, 1120.839966, 1097.880005, 1186.920044, 1186.51001, 1210.280029,1211.449951, 1217.560059, 1269.22998, 1262.469971, 1263.469971, 1283.25,1266.609985, 1216.339966, 1263.209961, 1276.310059, 1279.310059, 1275.880005,1233.670044],\n",
        "    'Volume': [\n",
        "        2343100, 1964900, 2313400, 2664700, 2387300, 1975100, 2175400, 1739800, 2470400,1671700, 2518100, 1949000, 1695500, 2153000, 2093100, 1566200, 1640400, 1600600,2951300 ]\n",
        "}\n",
        "\n",
        "df = pd.DataFrame(data)\n",
        "df['Date'] = pd.to_datetime(df['Date'])\n",
        "start_date = '2020-04-01'\n",
        "end_date = '2020-05-01'\n",
        "filtered_df = df[(df['Date'] >= start_date) & (df['Date'] <= end_date)]\n",
        "plt.figure(figsize=(12, 6))\n",
        "plt.plot(filtered_df['Date'], filtered_df['Close'], label='Closing Price')\n",
        "plt.title('Alphabet Inc. Stock Prices (2022)')\n",
        "plt.xlabel('Date')\n",
        "plt.ylabel('Price')\n",
        "plt.legend()\n",
        "plt.grid(True)\n",
        "plt.show()\n",
        "\n"
      ],
      "metadata": {
        "colab": {
          "base_uri": "https://localhost:8080/",
          "height": 619
        },
        "id": "mlVRQR1Hg3Ms",
        "outputId": "265f5afb-56a9-4eee-ef03-5c00efa78b89"
      },
      "execution_count": null,
      "outputs": [
        {
          "output_type": "stream",
          "name": "stderr",
          "text": [
            "<ipython-input-10-e780b659facf>:20: UserWarning: Parsing dates in DD/MM/YYYY format when dayfirst=False (the default) was specified. This may lead to inconsistently parsed dates! Specify a format to ensure consistent parsing.\n",
            "  df['Date'] = pd.to_datetime(df['Date'])\n"
          ]
        },
        {
          "output_type": "display_data",
          "data": {
            "text/plain": [
              "<Figure size 1200x600 with 1 Axes>"
            ],
            "image/png": "[encoded data removed]"
          },
          "metadata": {}
        }
      ]
    },
    {
      "cell_type": "markdown",
      "source": [
        "RESULT: Successfully implemented."
      ],
      "metadata": {
        "id": "F_Ess_Tzj2Qz"
      }
    },
    {
      "cell_type": "markdown",
      "source": [
        "# **5.\tWrite a Pandas program to create a bar plot of the trading volume of Alphabet Inc. stock between two specific dates.**"
      ],
      "metadata": {
        "id": "GD0I5DAKj4l4"
      }
    },
    {
      "cell_type": "markdown",
      "source": [
        "AIM:to create a bar plot\n",
        "\n",
        "PROCEDURE:Algorithm: Create a Bar Chart in Pandas and Matplotlib\n",
        "1. Import the Pandas and Matplotlib libraries.\n",
        "2. Define or load your dataset into a Pandas DataFrame.\n",
        "3. Convert the 'Date' column to datetime format using `pd.to_datetime`.\n",
        "4. Define the start_date and end_date for the date range you want to analyze.\n",
        "5. Create a new DataFrame by filtering the data between the specified start_date and end_date using boolean indexing.\n",
        "6. Set the 'Date' column as the index of the new DataFrame for time-series data analysis.\n",
        "7. Create a figure and set the title, xlabel, and ylabel for the bar chart.\n",
        "8. Plot the trading volume data as a bar chart using `df2['Volume'].plot(kind='bar')`.\n",
        "9. Display the bar chart using `plt.show()`."
      ],
      "metadata": {
        "id": "8RCSRBvskEeY"
      }
    },
    {
      "cell_type": "code",
      "source": [
        "import pandas as pd\n",
        "import matplotlib.pyplot as plt\n",
        "\n",
        "\n",
        "data = {\n",
        "    'Date': [\n",
        "        '01-04-2020', '02-04-2020', '03-04-2020', '06-04-2020', '07-04-2020','08-04-2020', '09-04-2020', '13-04-2020', '14-04-2020', '15-04-2020','16-04-2020', '17-04-2020', '20-04-2020', '21-04-2020', '22-04-2020','23-04-2020', '24-04-2020', '27-04-2020', '28-04-2020'  ],\n",
        "    'Open': [\n",
        "        1122.0, 1098.26001, 1119.015015, 1138.0, 1221.0, 1206.5, 1224.079956,1209.180054, 1245.089966, 1245.609985, 1274.099976, 1284.849976,1271.0, 1247.0, 1245.540039, 1271.550049, 1261.170044, 1296.0, 1287.930054 ],\n",
        "    'High': [1129.689941, 1126.859985, 1123.540039, 1194.660034, 1225.0, 1219.069946,1225.569946, 1220.51001, 1282.069946, 1280.459961, 1279.0, 1294.430054,1281.599976, 1254.27002, 1285.613037, 1293.310059, 1280.400024, 1296.150024,1288.050049],\n",
        "    'Low': [\n",
        "        1097.449951, 1096.400024, 1079.810059, 1130.939941, 1182.22998, 1188.160034,1196.734985, 1187.598022, 1236.930054, 1240.400024, 1242.619995, 1271.22998,1261.369995, 1209.709961, 1242.0, 1265.670044, 1249.449951, 1269.0, 1232.199951],\n",
        "    'Close': [\n",
        "        1105.619995, 1120.839966, 1097.880005, 1186.920044, 1186.51001, 1210.280029,1211.449951, 1217.560059, 1269.22998, 1262.469971, 1263.469971, 1283.25,1266.609985, 1216.339966, 1263.209961, 1276.310059, 1279.310059, 1275.880005,1233.670044],\n",
        "    'Adj Close': [\n",
        "        1105.619995, 1120.839966, 1097.880005, 1186.920044, 1186.51001, 1210.280029,1211.449951, 1217.560059, 1269.22998, 1262.469971, 1263.469971, 1283.25,1266.609985, 1216.339966, 1263.209961, 1276.310059, 1279.310059, 1275.880005,1233.670044],\n",
        "    'Volume': [\n",
        "        2343100, 1964900, 2313400, 2664700, 2387300, 1975100, 2175400, 1739800, 2470400,1671700, 2518100, 1949000, 1695500, 2153000, 2093100, 1566200, 1640400, 1600600,2951300 ]\n",
        "}\n",
        "\n",
        "df = pd.DataFrame(data)\n",
        "start_date = pd.to_datetime('2020-4-1')\n",
        "end_date = pd.to_datetime('2020-4-30')\n",
        "df['Date'] = pd.to_datetime(df['Date'])\n",
        "new_df = (df['Date']>= start_date) & (df['Date']<= end_date)\n",
        "df1 = df.loc[new_df]\n",
        "df2 = df1.set_index('Date')\n",
        "plt.figure(figsize=(6,6))\n",
        "plt.suptitle('Trading Volume of Alphabet Inc. stock,\\n01-04-2020 to 30-04-2020', fontsize=16, color='black')\n",
        "plt.xlabel(\"Date\",fontsize=12, color='black')\n",
        "plt.ylabel(\"Trading Volume\", fontsize=12, color='black')\n",
        "df2['Volume'].plot(kind='bar');\n",
        "plt.show()"
      ],
      "metadata": {
        "colab": {
          "base_uri": "https://localhost:8080/",
          "height": 793
        },
        "id": "Dxrkp76ZkGiw",
        "outputId": "37e0508c-b5ba-4f12-f1d4-c042e0ec9415"
      },
      "execution_count": null,
      "outputs": [
        {
          "output_type": "stream",
          "name": "stderr",
          "text": [
            "<ipython-input-13-273e3dea0438>:24: UserWarning: Parsing dates in DD/MM/YYYY format when dayfirst=False (the default) was specified. This may lead to inconsistently parsed dates! Specify a format to ensure consistent parsing.\n",
            "  df['Date'] = pd.to_datetime(df['Date'])\n"
          ]
        },
        {
          "output_type": "display_data",
          "data": {
            "text/plain": [
              "<Figure size 600x600 with 1 Axes>"
            ],
            "image/png": "[encoded data removed]"
          },
          "metadata": {}
        }
      ]
    },
    {
      "cell_type": "markdown",
      "source": [
        "RESULT: Successfully implemented."
      ],
      "metadata": {
        "id": "uTnqCr1Kk0-N"
      }
    },
    {
      "cell_type": "markdown",
      "source": [
        "# **6.\tWrite a Pandas program to create a scatter plot of the trading volume/stock prices of Alphabet Inc. stock between two specific dates.**"
      ],
      "metadata": {
        "id": "6VzxX4T9k2yz"
      }
    },
    {
      "cell_type": "markdown",
      "source": [
        "AIM:to create a scatter plot                                           \n",
        "\n",
        "PROCEDURE:Algorithm: Create a Scatter Plot in Pandas and Matplotlib\n",
        "1. Import the Pandas and Matplotlib libraries.\n",
        "2. Define or load your dataset into a Pandas DataFrame.\n",
        "3. Convert the 'Date' column to datetime format using `pd.to_datetime`.\n",
        "4. Define the start_date and end_date for the date range you want to analyze.\n",
        "5. Create a new DataFrame by filtering the data between the specified start_date and end_date using boolean indexing.\n",
        "6. Set the 'Date' column as the index of the new DataFrame for time-series data analysis.\n",
        "7. Define the data for the x-axis (stock price) and the y-axis (trading volume).\n",
        "8. Create a scatter plot using Matplotlib, specifying the x and y data, marker size (s), and other plot settings.\n",
        "9. Add gridlines, a title, and axis labels to the plot for clarity.\n",
        "10. Display the scatter plot using `plt.show()`."
      ],
      "metadata": {
        "id": "xbpUaQGbk8Ho"
      }
    },
    {
      "cell_type": "code",
      "source": [
        "import pandas as pd\n",
        "import matplotlib.pyplot as plt\n",
        "\n",
        "\n",
        "data = {\n",
        "    'Date': [\n",
        "        '01-04-2020', '02-04-2020', '03-04-2020', '06-04-2020', '07-04-2020','08-04-2020', '09-04-2020', '13-04-2020', '14-04-2020', '15-04-2020','16-04-2020', '17-04-2020', '20-04-2020', '21-04-2020', '22-04-2020','23-04-2020', '24-04-2020', '27-04-2020', '28-04-2020'  ],\n",
        "    'Open': [\n",
        "        1122.0, 1098.26001, 1119.015015, 1138.0, 1221.0, 1206.5, 1224.079956,1209.180054, 1245.089966, 1245.609985, 1274.099976, 1284.849976,1271.0, 1247.0, 1245.540039, 1271.550049, 1261.170044, 1296.0, 1287.930054 ],\n",
        "    'High': [1129.689941, 1126.859985, 1123.540039, 1194.660034, 1225.0, 1219.069946,1225.569946, 1220.51001, 1282.069946, 1280.459961, 1279.0, 1294.430054,1281.599976, 1254.27002, 1285.613037, 1293.310059, 1280.400024, 1296.150024,1288.050049],\n",
        "    'Low': [\n",
        "        1097.449951, 1096.400024, 1079.810059, 1130.939941, 1182.22998, 1188.160034,1196.734985, 1187.598022, 1236.930054, 1240.400024, 1242.619995, 1271.22998,1261.369995, 1209.709961, 1242.0, 1265.670044, 1249.449951, 1269.0, 1232.199951],\n",
        "    'Close': [\n",
        "        1105.619995, 1120.839966, 1097.880005, 1186.920044, 1186.51001, 1210.280029,1211.449951, 1217.560059, 1269.22998, 1262.469971, 1263.469971, 1283.25,1266.609985, 1216.339966, 1263.209961, 1276.310059, 1279.310059, 1275.880005,1233.670044],\n",
        "    'Adj Close': [\n",
        "        1105.619995, 1120.839966, 1097.880005, 1186.920044, 1186.51001, 1210.280029,1211.449951, 1217.560059, 1269.22998, 1262.469971, 1263.469971, 1283.25,1266.609985, 1216.339966, 1263.209961, 1276.310059, 1279.310059, 1275.880005,1233.670044],\n",
        "    'Volume': [\n",
        "        2343100, 1964900, 2313400, 2664700, 2387300, 1975100, 2175400, 1739800, 2470400,1671700, 2518100, 1949000, 1695500, 2153000, 2093100, 1566200, 1640400, 1600600,2951300 ]\n",
        "}\n",
        "\n",
        "df = pd.DataFrame(data)\n",
        "start_date = pd.to_datetime('2020-4-1')\n",
        "end_date = pd.to_datetime('2020-9-30')\n",
        "df['Date'] = pd.to_datetime(df['Date'])\n",
        "new_df = (df['Date']>= start_date) & (df['Date']<= end_date)\n",
        "df1 = df.loc[new_df]\n",
        "df2 = df1.set_index('Date')\n",
        "x= ['Close']; y = ['Volume']\n",
        "plt.figure(figsize=[15,10])\n",
        "df2.plot.scatter(x, y, s=50);\n",
        "plt.grid(True)\n",
        "plt.title('Trading Volume/Price of Alphabet Inc. stock,\\n01-04-2020 to 30-09-2020', fontsize=14, color='black')\n",
        "plt.xlabel(\"Stock Price\",fontsize=12, color='black')\n",
        "plt.ylabel(\"Trading Volume\", fontsize=12, color='black')\n",
        "plt.show()"
      ],
      "metadata": {
        "colab": {
          "base_uri": "https://localhost:8080/",
          "height": 571
        },
        "id": "PndNX4vUk9od",
        "outputId": "244503ae-92aa-4ba8-d7fe-7baf4e1db74d"
      },
      "execution_count": null,
      "outputs": [
        {
          "output_type": "stream",
          "name": "stderr",
          "text": [
            "<ipython-input-14-12e6937ad076>:24: UserWarning: Parsing dates in DD/MM/YYYY format when dayfirst=False (the default) was specified. This may lead to inconsistently parsed dates! Specify a format to ensure consistent parsing.\n",
            "  df['Date'] = pd.to_datetime(df['Date'])\n"
          ]
        },
        {
          "output_type": "display_data",
          "data": {
            "text/plain": [
              "<Figure size 1500x1000 with 0 Axes>"
            ]
          },
          "metadata": {}
        },
        {
          "output_type": "display_data",
          "data": {
            "text/plain": [
              "<Figure size 640x480 with 1 Axes>"
            ],
            "image/png": "[encoded data removed]"
          },
          "metadata": {}
        }
      ]
    },
    {
      "cell_type": "markdown",
      "source": [
        "RESULT: Successfully implemented."
      ],
      "metadata": {
        "id": "Mkf4YPxzleAZ"
      }
    },
    {
      "cell_type": "markdown",
      "source": [
        "# **7.\tWrite a Pandas program to create a Pivot table and find the maximum and minimum sale value of the items.(refer sales_data table)**"
      ],
      "metadata": {
        "id": "3lqERW2plfgs"
      }
    },
    {
      "cell_type": "markdown",
      "source": [
        "AIM: to create a Pivot table and find the maximum and minimum sale value of the items  PROCEDURE:Algorithm: Create a Pivot Table in Pandas\n",
        "1. Import the Pandas and NumPy libraries.\n",
        "2. Define or load your dataset into a Pandas DataFrame.\n",
        "3. Use the `pivot_table` method on the DataFrame to create a pivot table. Specify the following parameters:\n",
        "   a. `index`: The column(s) to use as the index for the pivot table, which represents the rows.\n",
        "   b. `values`: The column(s) to aggregate or perform operations on, which represents the data to analyze.\n",
        "   c. `aggfunc`: The aggregation function(s) to apply to the specified values. .\n",
        "4. Display or print the resulting pivot table to see the aggregated data.\n"
      ],
      "metadata": {
        "id": "hTyeAIAzlnae"
      }
    },
    {
      "cell_type": "code",
      "source": [
        "import pandas as pd\n",
        "import numpy as np\n",
        "data = {\n",
        "        'Item': ['Television', 'Home Theater', 'Television', 'Cell Phone', 'Television', 'Home Theater', 'Television', 'Television', 'Television', 'Home Theater', 'Television', 'Home Theater', 'Home Theater', 'Television', 'Desk', 'Video Games', 'Home Theater', 'Cell Phone'],\n",
        "\n",
        "    'OrderDate': ['1-6-18', '1-23-18', '2-9-18', '2-26-18', '3-15-18', '4-1-18', '4-18-18', '5-5-18', '5-22-18', '6-8-18', '6-25-18', '7-12-18', '7-29-18', '8-15-18', '9-1-18', '9-18-18', '10-5-18', '10-22-18'],\n",
        "    'Region': ['East', 'Central', 'Central', 'Central', 'West', 'East', 'Central', 'Central', 'West', 'East', 'Central', 'East', 'East', 'East', 'Central', 'East', 'Central', 'East'],\n",
        "    'Manager': ['Martha', 'Hermann', 'Hermann', 'Timothy', 'Timothy', 'Martha', 'Martha', 'Hermann', 'Douglas', 'Martha', 'Hermann', 'Martha', 'Douglas', 'Martha', 'Douglas', 'Hermann', 'Martha', 'Martha'],\n",
        "    'SalesMan': ['Alexander', 'Shelli', 'Luis', 'David', 'Stephen', 'Alexander', 'Steven', 'Luis', 'Michael', 'Alexander', 'Sigal', 'Diana', 'Karen', 'Alexander', 'John', 'Alexander', 'Sigal', 'Alexander'],\n",
        "    'Units': [95, 50, 36, 27, 56, 60, 75, 90, 32, 60, 90, 29, 81, 35, 2, 16, 28, 64],\n",
        "    'Unit_price': [1198.00, 500.00, 1198.00, 225.00, 1198.00, 500.00, 1198.00, 1198.00, 1198.00, 500.00, 1198.00, 500.00, 500.00, 1198.00, 125.00, 58.50, 500.00, 225.00],\n",
        "    'Sale_amt': [113810.00, 25000.00, 43128.00, 6075.00, 67088.00, 30000.00, 89850.00, 107820.00, 38336.00, 30000.00, 107820.00, 14500.00, 40500.00, 41930.00, 250.00, 936.00, 14000.00, 14400.00]\n",
        "}\n",
        "sales_data = pd.DataFrame(data)\n",
        "print(sales_data)\n",
        "\n",
        "pivot_table = sales_data.pivot_table(index='Item', values='Sale_amt', aggfunc=['max', 'min'])\n",
        "print(pivot_table)"
      ],
      "metadata": {
        "colab": {
          "base_uri": "https://localhost:8080/"
        },
        "id": "ScQ2-j0FlohT",
        "outputId": "a87a857f-2651-4d69-edaa-dacd99687b82"
      },
      "execution_count": null,
      "outputs": [
        {
          "output_type": "stream",
          "name": "stdout",
          "text": [
            "            Item OrderDate   Region  Manager   SalesMan  Units  Unit_price  \\\n",
            "0     Television    1-6-18     East   Martha  Alexander     95      1198.0   \n",
            "1   Home Theater   1-23-18  Central  Hermann     Shelli     50       500.0   \n",
            "2     Television    2-9-18  Central  Hermann       Luis     36      1198.0   \n",
            "3     Cell Phone   2-26-18  Central  Timothy      David     27       225.0   \n",
            "4     Television   3-15-18     West  Timothy    Stephen     56      1198.0   \n",
            "5   Home Theater    4-1-18     East   Martha  Alexander     60       500.0   \n",
            "6     Television   4-18-18  Central   Martha     Steven     75      1198.0   \n",
            "7     Television    5-5-18  Central  Hermann       Luis     90      1198.0   \n",
            "8     Television   5-22-18     West  Douglas    Michael     32      1198.0   \n",
            "9   Home Theater    6-8-18     East   Martha  Alexander     60       500.0   \n",
            "10    Television   6-25-18  Central  Hermann      Sigal     90      1198.0   \n",
            "11  Home Theater   7-12-18     East   Martha      Diana     29       500.0   \n",
            "12  Home Theater   7-29-18     East  Douglas      Karen     81       500.0   \n",
            "13    Television   8-15-18     East   Martha  Alexander     35      1198.0   \n",
            "14          Desk    9-1-18  Central  Douglas       John      2       125.0   \n",
            "15   Video Games   9-18-18     East  Hermann  Alexander     16        58.5   \n",
            "16  Home Theater   10-5-18  Central   Martha      Sigal     28       500.0   \n",
            "17    Cell Phone  10-22-18     East   Martha  Alexander     64       225.0   \n",
            "\n",
            "    Sale_amt  \n",
            "0   113810.0  \n",
            "1    25000.0  \n",
            "2    43128.0  \n",
            "3     6075.0  \n",
            "4    67088.0  \n",
            "5    30000.0  \n",
            "6    89850.0  \n",
            "7   107820.0  \n",
            "8    38336.0  \n",
            "9    30000.0  \n",
            "10  107820.0  \n",
            "11   14500.0  \n",
            "12   40500.0  \n",
            "13   41930.0  \n",
            "14     250.0  \n",
            "15     936.0  \n",
            "16   14000.0  \n",
            "17   14400.0  \n",
            "                   max      min\n",
            "              Sale_amt Sale_amt\n",
            "Item                           \n",
            "Cell Phone     14400.0   6075.0\n",
            "Desk             250.0    250.0\n",
            "Home Theater   40500.0  14000.0\n",
            "Television    113810.0  38336.0\n",
            "Video Games      936.0    936.0\n"
          ]
        }
      ]
    },
    {
      "cell_type": "markdown",
      "source": [
        "RESULT: Successfully implemented."
      ],
      "metadata": {
        "id": "9mORe7XKlyvm"
      }
    },
    {
      "cell_type": "markdown",
      "source": [
        "# **8.\tWrite a Pandas program to create a Pivot table and find the item wise unit sold. .(refer sales_data table)**"
      ],
      "metadata": {
        "id": "WBLSnrzLl1kq"
      }
    },
    {
      "cell_type": "markdown",
      "source": [
        "AIM:program to create a Pivot table and find the item wise unit sold  \n",
        "PROCEDURE:Algorithm: Create Pivot Tables in Pandas\n",
        "1. Import the Pandas and NumPy libraries.\n",
        "2. Define or load your dataset into a Pandas DataFrame.\n",
        "3. Use the `pivot_table` method on the DataFrame to create pivot tables. Specify the following parameters:\n",
        "   a. `index`: The column(s) to use as the index for the pivot table. You can specify one or multiple columns.\n",
        "   b. `values`: The column(s) to aggregate or perform operations on.\n",
        "   c. `aggfunc`: The aggregation function(s) to apply to the specified values.\n",
        "4. Display or print the resulting pivot tables to see the aggregated data.\n"
      ],
      "metadata": {
        "id": "2qDCFz48l6CE"
      }
    },
    {
      "cell_type": "code",
      "source": [
        "import pandas as pd\n",
        "import numpy as np\n",
        "data = {\n",
        "        'Item': ['Television', 'Home Theater', 'Television', 'Cell Phone', 'Television', 'Home Theater', 'Television', 'Television', 'Television', 'Home Theater', 'Television', 'Home Theater', 'Home Theater', 'Television', 'Desk', 'Video Games', 'Home Theater', 'Cell Phone'],\n",
        "\n",
        "    'OrderDate': ['1-6-18', '1-23-18', '2-9-18', '2-26-18', '3-15-18', '4-1-18', '4-18-18', '5-5-18', '5-22-18', '6-8-18', '6-25-18', '7-12-18', '7-29-18', '8-15-18', '9-1-18', '9-18-18', '10-5-18', '10-22-18'],\n",
        "    'Region': ['East', 'Central', 'Central', 'Central', 'West', 'East', 'Central', 'Central', 'West', 'East', 'Central', 'East', 'East', 'East', 'Central', 'East', 'Central', 'East'],\n",
        "    'Manager': ['Martha', 'Hermann', 'Hermann', 'Timothy', 'Timothy', 'Martha', 'Martha', 'Hermann', 'Douglas', 'Martha', 'Hermann', 'Martha', 'Douglas', 'Martha', 'Douglas', 'Hermann', 'Martha', 'Martha'],\n",
        "    'SalesMan': ['Alexander', 'Shelli', 'Luis', 'David', 'Stephen', 'Alexander', 'Steven', 'Luis', 'Michael', 'Alexander', 'Sigal', 'Diana', 'Karen', 'Alexander', 'John', 'Alexander', 'Sigal', 'Alexander'],\n",
        "    'Units': [95, 50, 36, 27, 56, 60, 75, 90, 32, 60, 90, 29, 81, 35, 2, 16, 28, 64],\n",
        "    'Unit_price': [1198.00, 500.00, 1198.00, 225.00, 1198.00, 500.00, 1198.00, 1198.00, 1198.00, 500.00, 1198.00, 500.00, 500.00, 1198.00, 125.00, 58.50, 500.00, 225.00],\n",
        "    'Sale_amt': [113810.00, 25000.00, 43128.00, 6075.00, 67088.00, 30000.00, 89850.00, 107820.00, 38336.00, 30000.00, 107820.00, 14500.00, 40500.00, 41930.00, 250.00, 936.00, 14000.00, 14400.00]\n",
        "}\n",
        "sales_data = pd.DataFrame(data)\n",
        "print(sales_data.pivot_table(index=[\"Region\", \"Item\"], values=\"Units\", aggfunc=np.sum))\n",
        "pivot_table = sales_data.pivot_table(index='Item', values='Units', aggfunc='sum')\n",
        "print(pivot_table)\n",
        "\n"
      ],
      "metadata": {
        "colab": {
          "base_uri": "https://localhost:8080/"
        },
        "id": "HTw2le6Dl-OD",
        "outputId": "5df3dcf1-4efe-4dac-ee83-f1ceea1358f1"
      },
      "execution_count": null,
      "outputs": [
        {
          "output_type": "stream",
          "name": "stdout",
          "text": [
            "                      Units\n",
            "Region  Item               \n",
            "Central Cell Phone       27\n",
            "        Desk              2\n",
            "        Home Theater     78\n",
            "        Television      291\n",
            "East    Cell Phone       64\n",
            "        Home Theater    230\n",
            "        Television      130\n",
            "        Video Games      16\n",
            "West    Television       88\n",
            "              Units\n",
            "Item               \n",
            "Cell Phone       91\n",
            "Desk              2\n",
            "Home Theater    308\n",
            "Television      509\n",
            "Video Games      16\n"
          ]
        }
      ]
    },
    {
      "cell_type": "markdown",
      "source": [
        "RESULT: Successfully implemented."
      ],
      "metadata": {
        "id": "nXvNi2qJmNVX"
      }
    },
    {
      "cell_type": "markdown",
      "source": [
        "# **9.\tWrite a Pandas program to create a Pivot table and find the total sale amount region wise, manager wise, sales man wise. .(refer sales_data table)**"
      ],
      "metadata": {
        "id": "sNvn_g90mO1Y"
      }
    },
    {
      "cell_type": "markdown",
      "source": [
        "AIM:and find the total sale amount region wise, manager wise, sales man wise.  \n",
        "PROCEDURE:Algorithm: Create a Pivot Table in Pandas\n",
        "1. Import the Pandas and NumPy libraries.\n",
        "2. Define or load your dataset into a Pandas DataFrame.\n",
        "3. Use the `pivot_table` method on the DataFrame to create a pivot table. Specify the following parameters:\n",
        "   - `index`: The column(s) to use as the index for the pivot table.\n",
        "   - `values`: The column(s) to aggregate or perform operations on.\n",
        "   - `aggfunc`: The aggregation function(s) to apply to the specified values.\n",
        "4. Display or print the resulting pivot table to see the aggregated data."
      ],
      "metadata": {
        "id": "LQXelUzWmTsg"
      }
    },
    {
      "cell_type": "code",
      "source": [
        "import pandas as pd\n",
        "import numpy as np\n",
        "data = {\n",
        "        'Item': ['Television', 'Home Theater', 'Television', 'Cell Phone', 'Television', 'Home Theater', 'Television', 'Television', 'Television', 'Home Theater', 'Television', 'Home Theater', 'Home Theater', 'Television', 'Desk', 'Video Games', 'Home Theater', 'Cell Phone'],\n",
        "\n",
        "    'OrderDate': ['1-6-18', '1-23-18', '2-9-18', '2-26-18', '3-15-18', '4-1-18', '4-18-18', '5-5-18', '5-22-18', '6-8-18', '6-25-18', '7-12-18', '7-29-18', '8-15-18', '9-1-18', '9-18-18', '10-5-18', '10-22-18'],\n",
        "    'Region': ['East', 'Central', 'Central', 'Central', 'West', 'East', 'Central', 'Central', 'West', 'East', 'Central', 'East', 'East', 'East', 'Central', 'East', 'Central', 'East'],\n",
        "    'Manager': ['Martha', 'Hermann', 'Hermann', 'Timothy', 'Timothy', 'Martha', 'Martha', 'Hermann', 'Douglas', 'Martha', 'Hermann', 'Martha', 'Douglas', 'Martha', 'Douglas', 'Hermann', 'Martha', 'Martha'],\n",
        "    'SalesMan': ['Alexander', 'Shelli', 'Luis', 'David', 'Stephen', 'Alexander', 'Steven', 'Luis', 'Michael', 'Alexander', 'Sigal', 'Diana', 'Karen', 'Alexander', 'John', 'Alexander', 'Sigal', 'Alexander'],\n",
        "    'Units': [95, 50, 36, 27, 56, 60, 75, 90, 32, 60, 90, 29, 81, 35, 2, 16, 28, 64],\n",
        "    'Unit_price': [1198.00, 500.00, 1198.00, 225.00, 1198.00, 500.00, 1198.00, 1198.00, 1198.00, 500.00, 1198.00, 500.00, 500.00, 1198.00, 125.00, 58.50, 500.00, 225.00],\n",
        "    'Sale_amt': [113810.00, 25000.00, 43128.00, 6075.00, 67088.00, 30000.00, 89850.00, 107820.00, 38336.00, 30000.00, 107820.00, 14500.00, 40500.00, 41930.00, 250.00, 936.00, 14000.00, 14400.00]\n",
        "}\n",
        "sales_data = pd.DataFrame(data)\n",
        "print(sales_data.pivot_table(index=[\"Manager\"],values=[\"Sale_amt\"],aggfunc=[np.mean,len]))"
      ],
      "metadata": {
        "colab": {
          "base_uri": "https://localhost:8080/"
        },
        "id": "nYUhEkogmU-e",
        "outputId": "8ac35110-be03-4651-b193-f46bc2cce95e"
      },
      "execution_count": null,
      "outputs": [
        {
          "output_type": "stream",
          "name": "stdout",
          "text": [
            "             mean      len\n",
            "         Sale_amt Sale_amt\n",
            "Manager                   \n",
            "Douglas  26362.00        3\n",
            "Hermann  56940.80        5\n",
            "Martha   43561.25        8\n",
            "Timothy  36581.50        2\n"
          ]
        }
      ]
    },
    {
      "cell_type": "markdown",
      "source": [
        "RESULT: Successfully implemented."
      ],
      "metadata": {
        "id": "Y03FAPshmfTE"
      }
    },
    {
      "cell_type": "markdown",
      "source": [
        "# **10.Create a dataframe of ten rows, four columns with random values. Write a Pandas program to highlight the negative numbers red and positive numbers black.**"
      ],
      "metadata": {
        "id": "aSKtBIGamiKw"
      }
    },
    {
      "cell_type": "markdown",
      "source": [
        "AIM:to highlight the negative numbers red and positive numbers black.\n",
        "PROCEDURE:Algorithm: Apply Custom Styling to Pandas DataFrame\n",
        "\n",
        "1. Import the Pandas and NumPy libraries.\n",
        "2. Optionally, set a random seed with `np.random.seed()` for reproducibility.\n",
        "3. Create a Pandas DataFrame with the desired data.\n",
        "4. Define a custom styling function, such as `color_negative_red(val)`, that takes a single value as input and returns a CSS string specifying the text color.\n",
        "5. Use the `style` attribute of the DataFrame to apply the custom styling using the `applymap()` method. The styling function will be applied to each cell in the DataFrame.\n",
        "6. Optionally, assign the styled DataFrame to a variable to capture the styling effect.\n",
        "7. Display or print the original and styled DataFrames to see the styling effect.\n",
        "\n",
        "\n",
        "\n"
      ],
      "metadata": {
        "id": "HZ2nPuw_mpNI"
      }
    },
    {
      "cell_type": "code",
      "source": [
        "import pandas as pd\n",
        "import numpy as np\n",
        "np.random.seed(24)\n",
        "df = pd.DataFrame({'A': np.linspace(1, 10, 10)})\n",
        "df = pd.concat([df, pd.DataFrame(np.random.randn(10, 4), columns=list('BCDE'))],\n",
        "               axis=1)\n",
        "print(\"Original array:\")\n",
        "print(df)\n",
        "def color_negative_red(val):\n",
        "    color = 'red' if val < 0 else 'black'\n",
        "    return 'color: %s' % color\n",
        "print(\"\\nNegative numbers red and positive numbers black:\")\n",
        "df.style.applymap(color_negative_red)"
      ],
      "metadata": {
        "colab": {
          "base_uri": "https://localhost:8080/",
          "height": 606
        },
        "id": "Y5F-x2tJmrFW",
        "outputId": "93d1967d-898a-453d-fcf6-4bfebc01df69"
      },
      "execution_count": 2,
      "outputs": [
        {
          "output_type": "stream",
          "name": "stdout",
          "text": [
            "Original array:\n",
            "      A         B         C         D         E\n",
            "0   1.0  1.329212 -0.770033 -0.316280 -0.990810\n",
            "1   2.0 -1.070816 -1.438713  0.564417  0.295722\n",
            "2   3.0 -1.626404  0.219565  0.678805  1.889273\n",
            "3   4.0  0.961538  0.104011 -0.481165  0.850229\n",
            "4   5.0  1.453425  1.057737  0.165562  0.515018\n",
            "5   6.0 -1.336936  0.562861  1.392855 -0.063328\n",
            "6   7.0  0.121668  1.207603 -0.002040  1.627796\n",
            "7   8.0  0.354493  1.037528 -0.385684  0.519818\n",
            "8   9.0  1.686583 -1.325963  1.428984 -2.089354\n",
            "9  10.0 -0.129820  0.631523 -0.586538  0.290720\n",
            "\n",
            "Negative numbers red and positive numbers black:\n"
          ]
        },
        {
          "output_type": "execute_result",
          "data": {
            "text/plain": [
              "<pandas.io.formats.style.Styler at 0x7b3cf227eb90>"
            ],
            "text/html": [
              "<style type=\"text/css\">\n",
              "#T_66405_row0_col0, #T_66405_row0_col1, #T_66405_row1_col0, #T_66405_row1_col3, #T_66405_row1_col4, #T_66405_row2_col0, #T_66405_row2_col2, #T_66405_row2_col3, #T_66405_row2_col4, #T_66405_row3_col0, #T_66405_row3_col1, #T_66405_row3_col2, #T_66405_row3_col4, #T_66405_row4_col0, #T_66405_row4_col1, #T_66405_row4_col2, #T_66405_row4_col3, #T_66405_row4_col4, #T_66405_row5_col0, #T_66405_row5_col2, #T_66405_row5_col3, #T_66405_row6_col0, #T_66405_row6_col1, #T_66405_row6_col2, #T_66405_row6_col4, #T_66405_row7_col0, #T_66405_row7_col1, #T_66405_row7_col2, #T_66405_row7_col4, #T_66405_row8_col0, #T_66405_row8_col1, #T_66405_row8_col3, #T_66405_row9_col0, #T_66405_row9_col2, #T_66405_row9_col4 {\n",
              "  color: black;\n",
              "}\n",
              "#T_66405_row0_col2, #T_66405_row0_col3, #T_66405_row0_col4, #T_66405_row1_col1, #T_66405_row1_col2, #T_66405_row2_col1, #T_66405_row3_col3, #T_66405_row5_col1, #T_66405_row5_col4, #T_66405_row6_col3, #T_66405_row7_col3, #T_66405_row8_col2, #T_66405_row8_col4, #T_66405_row9_col1, #T_66405_row9_col3 {\n",
              "  color: red;\n",
              "}\n",
              "</style>\n",
              "<table id=\"T_66405\" class=\"dataframe\">\n",
              "  <thead>\n",
              "    <tr>\n",
              "      <th class=\"blank level0\" >&nbsp;</th>\n",
              "      <th id=\"T_66405_level0_col0\" class=\"col_heading level0 col0\" >A</th>\n",
              "      <th id=\"T_66405_level0_col1\" class=\"col_heading level0 col1\" >B</th>\n",
              "      <th id=\"T_66405_level0_col2\" class=\"col_heading level0 col2\" >C</th>\n",
              "      <th id=\"T_66405_level0_col3\" class=\"col_heading level0 col3\" >D</th>\n",
              "      <th id=\"T_66405_level0_col4\" class=\"col_heading level0 col4\" >E</th>\n",
              "    </tr>\n",
              "  </thead>\n",
              "  <tbody>\n",
              "    <tr>\n",
              "      <th id=\"T_66405_level0_row0\" class=\"row_heading level0 row0\" >0</th>\n",
              "      <td id=\"T_66405_row0_col0\" class=\"data row0 col0\" >1.000000</td>\n",
              "      <td id=\"T_66405_row0_col1\" class=\"data row0 col1\" >1.329212</td>\n",
              "      <td id=\"T_66405_row0_col2\" class=\"data row0 col2\" >-0.770033</td>\n",
              "      <td id=\"T_66405_row0_col3\" class=\"data row0 col3\" >-0.316280</td>\n",
              "      <td id=\"T_66405_row0_col4\" class=\"data row0 col4\" >-0.990810</td>\n",
              "    </tr>\n",
              "    <tr>\n",
              "      <th id=\"T_66405_level0_row1\" class=\"row_heading level0 row1\" >1</th>\n",
              "      <td id=\"T_66405_row1_col0\" class=\"data row1 col0\" >2.000000</td>\n",
              "      <td id=\"T_66405_row1_col1\" class=\"data row1 col1\" >-1.070816</td>\n",
              "      <td id=\"T_66405_row1_col2\" class=\"data row1 col2\" >-1.438713</td>\n",
              "      <td id=\"T_66405_row1_col3\" class=\"data row1 col3\" >0.564417</td>\n",
              "      <td id=\"T_66405_row1_col4\" class=\"data row1 col4\" >0.295722</td>\n",
              "    </tr>\n",
              "    <tr>\n",
              "      <th id=\"T_66405_level0_row2\" class=\"row_heading level0 row2\" >2</th>\n",
              "      <td id=\"T_66405_row2_col0\" class=\"data row2 col0\" >3.000000</td>\n",
              "      <td id=\"T_66405_row2_col1\" class=\"data row2 col1\" >-1.626404</td>\n",
              "      <td id=\"T_66405_row2_col2\" class=\"data row2 col2\" >0.219565</td>\n",
              "      <td id=\"T_66405_row2_col3\" class=\"data row2 col3\" >0.678805</td>\n",
              "      <td id=\"T_66405_row2_col4\" class=\"data row2 col4\" >1.889273</td>\n",
              "    </tr>\n",
              "    <tr>\n",
              "      <th id=\"T_66405_level0_row3\" class=\"row_heading level0 row3\" >3</th>\n",
              "      <td id=\"T_66405_row3_col0\" class=\"data row3 col0\" >4.000000</td>\n",
              "      <td id=\"T_66405_row3_col1\" class=\"data row3 col1\" >0.961538</td>\n",
              "      <td id=\"T_66405_row3_col2\" class=\"data row3 col2\" >0.104011</td>\n",
              "      <td id=\"T_66405_row3_col3\" class=\"data row3 col3\" >-0.481165</td>\n",
              "      <td id=\"T_66405_row3_col4\" class=\"data row3 col4\" >0.850229</td>\n",
              "    </tr>\n",
              "    <tr>\n",
              "      <th id=\"T_66405_level0_row4\" class=\"row_heading level0 row4\" >4</th>\n",
              "      <td id=\"T_66405_row4_col0\" class=\"data row4 col0\" >5.000000</td>\n",
              "      <td id=\"T_66405_row4_col1\" class=\"data row4 col1\" >1.453425</td>\n",
              "      <td id=\"T_66405_row4_col2\" class=\"data row4 col2\" >1.057737</td>\n",
              "      <td id=\"T_66405_row4_col3\" class=\"data row4 col3\" >0.165562</td>\n",
              "      <td id=\"T_66405_row4_col4\" class=\"data row4 col4\" >0.515018</td>\n",
              "    </tr>\n",
              "    <tr>\n",
              "      <th id=\"T_66405_level0_row5\" class=\"row_heading level0 row5\" >5</th>\n",
              "      <td id=\"T_66405_row5_col0\" class=\"data row5 col0\" >6.000000</td>\n",
              "      <td id=\"T_66405_row5_col1\" class=\"data row5 col1\" >-1.336936</td>\n",
              "      <td id=\"T_66405_row5_col2\" class=\"data row5 col2\" >0.562861</td>\n",
              "      <td id=\"T_66405_row5_col3\" class=\"data row5 col3\" >1.392855</td>\n",
              "      <td id=\"T_66405_row5_col4\" class=\"data row5 col4\" >-0.063328</td>\n",
              "    </tr>\n",
              "    <tr>\n",
              "      <th id=\"T_66405_level0_row6\" class=\"row_heading level0 row6\" >6</th>\n",
              "      <td id=\"T_66405_row6_col0\" class=\"data row6 col0\" >7.000000</td>\n",
              "      <td id=\"T_66405_row6_col1\" class=\"data row6 col1\" >0.121668</td>\n",
              "      <td id=\"T_66405_row6_col2\" class=\"data row6 col2\" >1.207603</td>\n",
              "      <td id=\"T_66405_row6_col3\" class=\"data row6 col3\" >-0.002040</td>\n",
              "      <td id=\"T_66405_row6_col4\" class=\"data row6 col4\" >1.627796</td>\n",
              "    </tr>\n",
              "    <tr>\n",
              "      <th id=\"T_66405_level0_row7\" class=\"row_heading level0 row7\" >7</th>\n",
              "      <td id=\"T_66405_row7_col0\" class=\"data row7 col0\" >8.000000</td>\n",
              "      <td id=\"T_66405_row7_col1\" class=\"data row7 col1\" >0.354493</td>\n",
              "      <td id=\"T_66405_row7_col2\" class=\"data row7 col2\" >1.037528</td>\n",
              "      <td id=\"T_66405_row7_col3\" class=\"data row7 col3\" >-0.385684</td>\n",
              "      <td id=\"T_66405_row7_col4\" class=\"data row7 col4\" >0.519818</td>\n",
              "    </tr>\n",
              "    <tr>\n",
              "      <th id=\"T_66405_level0_row8\" class=\"row_heading level0 row8\" >8</th>\n",
              "      <td id=\"T_66405_row8_col0\" class=\"data row8 col0\" >9.000000</td>\n",
              "      <td id=\"T_66405_row8_col1\" class=\"data row8 col1\" >1.686583</td>\n",
              "      <td id=\"T_66405_row8_col2\" class=\"data row8 col2\" >-1.325963</td>\n",
              "      <td id=\"T_66405_row8_col3\" class=\"data row8 col3\" >1.428984</td>\n",
              "      <td id=\"T_66405_row8_col4\" class=\"data row8 col4\" >-2.089354</td>\n",
              "    </tr>\n",
              "    <tr>\n",
              "      <th id=\"T_66405_level0_row9\" class=\"row_heading level0 row9\" >9</th>\n",
              "      <td id=\"T_66405_row9_col0\" class=\"data row9 col0\" >10.000000</td>\n",
              "      <td id=\"T_66405_row9_col1\" class=\"data row9 col1\" >-0.129820</td>\n",
              "      <td id=\"T_66405_row9_col2\" class=\"data row9 col2\" >0.631523</td>\n",
              "      <td id=\"T_66405_row9_col3\" class=\"data row9 col3\" >-0.586538</td>\n",
              "      <td id=\"T_66405_row9_col4\" class=\"data row9 col4\" >0.290720</td>\n",
              "    </tr>\n",
              "  </tbody>\n",
              "</table>\n"
            ]
          },
          "metadata": {},
          "execution_count": 2
        }
      ]
    },
    {
      "cell_type": "markdown",
      "source": [
        "RESULT: Successfully implemented."
      ],
      "metadata": {
        "id": "GGnV6t3jn7Iy"
      }
    }
  ]
}